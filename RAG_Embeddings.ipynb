{
 "cells": [
  {
   "cell_type": "code",
   "execution_count": null,
   "id": "90f227b4",
   "metadata": {},
   "outputs": [],
   "source": [
    "# !pip install pymongo\n",
    "# !pip install pymupdf\n",
    "# !pip install sentence-transformers\n",
    "# !pip install torch --upgrade\n",
    "# !pip uninstall transformers sentence-transformers -y\n",
    "# !pip install transformers sentence-transformers\n",
    "# %pip install torch==1.9.0\n",
    "# %pip install transformers --upgrade"
   ]
  },
  {
   "cell_type": "code",
   "execution_count": null,
   "id": "1",
   "metadata": {},
   "outputs": [],
   "source": [
    "from pymongo import MongoClient\n",
    "import requests\n",
    "from bs4 import BeautifulSoup\n",
    "import fitz  # PyMuPDF"
   ]
  },
  {
   "cell_type": "code",
   "execution_count": null,
   "id": "2",
   "metadata": {},
   "outputs": [],
   "source": [
    "client = MongoClient(\"mongodb://localhost:27017/\")\n",
    "print(client.list_database_names())"
   ]
  },
  {
   "cell_type": "code",
   "execution_count": null,
   "id": "3",
   "metadata": {},
   "outputs": [],
   "source": [
    "VOLUME_ID = \"3500\"  # You can change this place\n",
    "BASE_URL = f\"https://ceur-ws.org/Vol-{VOLUME_ID}/\""
   ]
  },
  {
   "cell_type": "code",
   "execution_count": null,
   "id": "4",
   "metadata": {},
   "outputs": [],
   "source": [
    "def get_pdf_links(volume_url):\n",
    "    response = requests.get(volume_url)\n",
    "    soup = BeautifulSoup(response.text, \"html.parser\")\n",
    "    pdf_links = [BASE_URL + a[\"href\"] for a in soup.find_all(\"a\", href=True) if a[\"href\"].endswith(\".pdf\")]\n",
    "    return pdf_links\n",
    "\n",
    "pdf_urls = get_pdf_links(BASE_URL)\n",
    "print(f\"{len(pdf_urls)} PDF found!\")"
   ]
  },
  {
   "cell_type": "code",
   "execution_count": null,
   "id": "5",
   "metadata": {},
   "outputs": [],
   "source": [
    "def extract_text_from_pdf(pdf_url):\n",
    "    response = requests.get(pdf_url)\n",
    "    pdf_path = \"temp.pdf\"\n",
    "    \n",
    "    # Save PDF\n",
    "    with open(pdf_path, \"wb\") as f:\n",
    "        f.write(response.content)\n",
    "\n",
    "    # Open PDF and extract text\n",
    "    doc = fitz.open(pdf_path)\n",
    "    text = \"\\n\".join([page.get_text(\"text\") for page in doc])\n",
    "\n",
    "    return text\n",
    "\n",
    "# Sample test\n",
    "pdf_url = \"https://ceur-ws.org/Vol-3500/paper1.pdf\"  # A PDF URL from CEUR\n",
    "sample_text = extract_text_from_pdf(pdf_url)\n",
    "print(sample_text[:500])  # Show first 500 characters"
   ]
  },
  {
   "cell_type": "code",
   "execution_count": null,
   "id": "6",
   "metadata": {},
   "outputs": [],
   "source": [
    "from sentence_transformers import SentenceTransformer\n",
    "\n",
    "# Load model\n",
    "model = SentenceTransformer(\"sentence-transformers/all-MiniLM-L6-v2\")\n",
    "print(\"Model uploaded successfully!\")\n",
    "\n"
   ]
  },
  {
   "cell_type": "code",
   "execution_count": null,
   "id": "7",
   "metadata": {},
   "outputs": [],
   "source": [
    "def convert_text_to_embeddings(text):\n",
    "    sentences = text.split(\"\\n\")  # We can consider each line as a sentence\n",
    "    embeddings = model.encode(sentences)  # Model with embedding'e conversion\n",
    "    return embeddings"
   ]
  },
  {
   "cell_type": "code",
   "execution_count": null,
   "id": "8",
   "metadata": {},
   "outputs": [],
   "source": [
    "# Function to save data to MongoDB\n",
    "def save_embeddings_to_mongodb(embeddings, sentences, db_name=\"ceur_papers\", collection_name=\"embeddings\"):\n",
    "    client = MongoClient(\"mongodb://localhost:27017/\")  # MongoDB connection\n",
    "    db = client[db_name]\n",
    "    collection = db[collection_name]\n",
    "    \n",
    "    for i, embedding in enumerate(embeddings):\n",
    "        document = {\n",
    "            \"text\": sentences[i],\n",
    "            \"embedding\": embedding.tolist()  # We convert numpy array to list\n",
    "        }\n",
    "        collection.insert_one(document).acknowledged"
   ]
  },
  {
   "cell_type": "code",
   "execution_count": null,
   "id": "9",
   "metadata": {},
   "outputs": [],
   "source": [
    "def process_pdf_and_store(pdf_url):\n",
    "    # Load model\n",
    "    model = SentenceTransformer(\"sentence-transformers/all-MiniLM-L6-v2\")\n",
    "    \n",
    "    # Extract text from PDF\n",
    "    text = extract_text_from_pdf(pdf_url)\n",
    "    \n",
    "    # Convert texts to embedding\n",
    "    embeddings = convert_text_to_embeddings(text)\n",
    "    \n",
    "    # Save to MongoDB\n",
    "    save_embeddings_to_mongodb(embeddings, text.split(\"\\n\"))\n",
    "\n",
    "# Start action with PDF URL\n",
    "pdf_url = \"https://ceur-ws.org/Vol-3500/paper1.pdf\"  # A PDF URL from CEUR\n",
    "process_pdf_and_store(pdf_url)"
   ]
  },
  {
   "cell_type": "code",
   "execution_count": null,
   "id": "10",
   "metadata": {},
   "outputs": [],
   "source": []
  }
 ],
 "metadata": {
  "kernelspec": {
   "display_name": "BIGDATA_project",
   "language": "python",
   "name": "python3"
  },
  "language_info": {
   "codemirror_mode": {
    "name": "ipython",
    "version": 3
   },
   "file_extension": ".py",
   "mimetype": "text/x-python",
   "name": "python",
   "nbconvert_exporter": "python",
   "pygments_lexer": "ipython3",
   "version": "3.12.9"
  }
 },
 "nbformat": 4,
 "nbformat_minor": 5
}
